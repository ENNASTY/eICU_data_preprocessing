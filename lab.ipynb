{
 "cells": [
  {
   "cell_type": "code",
   "execution_count": 16,
   "metadata": {},
   "outputs": [],
   "source": [
    "import pandas as pd\n",
    "import numpy as np\n",
    "from sklearn.model_selection import train_test_split"
   ]
  },
  {
   "cell_type": "code",
   "execution_count": 17,
   "metadata": {},
   "outputs": [
    {
     "name": "stdout",
     "output_type": "stream",
     "text": [
      "<class 'pandas.core.frame.DataFrame'>\n",
      "RangeIndex: 434660 entries, 0 to 434659\n",
      "Data columns (total 10 columns):\n",
      " #   Column                   Non-Null Count   Dtype  \n",
      "---  ------                   --------------   -----  \n",
      " 0   labid                    434660 non-null  int64  \n",
      " 1   patientunitstayid        434660 non-null  int64  \n",
      " 2   labresultoffset          434660 non-null  int64  \n",
      " 3   labtypeid                434660 non-null  int64  \n",
      " 4   labname                  434660 non-null  object \n",
      " 5   labresult                431939 non-null  float64\n",
      " 6   labresulttext            434639 non-null  object \n",
      " 7   labmeasurenamesystem     415754 non-null  object \n",
      " 8   labmeasurenameinterface  415763 non-null  object \n",
      " 9   labresultrevisedoffset   434660 non-null  int64  \n",
      "dtypes: float64(1), int64(5), object(4)\n",
      "memory usage: 33.2+ MB\n"
     ]
    },
    {
     "data": {
      "text/html": [
       "<div>\n",
       "<style scoped>\n",
       "    .dataframe tbody tr th:only-of-type {\n",
       "        vertical-align: middle;\n",
       "    }\n",
       "\n",
       "    .dataframe tbody tr th {\n",
       "        vertical-align: top;\n",
       "    }\n",
       "\n",
       "    .dataframe thead th {\n",
       "        text-align: right;\n",
       "    }\n",
       "</style>\n",
       "<table border=\"1\" class=\"dataframe\">\n",
       "  <thead>\n",
       "    <tr style=\"text-align: right;\">\n",
       "      <th></th>\n",
       "      <th>labid</th>\n",
       "      <th>patientunitstayid</th>\n",
       "      <th>labresultoffset</th>\n",
       "      <th>labtypeid</th>\n",
       "      <th>labname</th>\n",
       "      <th>labresult</th>\n",
       "      <th>labresulttext</th>\n",
       "      <th>labmeasurenamesystem</th>\n",
       "      <th>labmeasurenameinterface</th>\n",
       "      <th>labresultrevisedoffset</th>\n",
       "    </tr>\n",
       "  </thead>\n",
       "  <tbody>\n",
       "    <tr>\n",
       "      <th>0</th>\n",
       "      <td>437880563</td>\n",
       "      <td>1754323</td>\n",
       "      <td>-647</td>\n",
       "      <td>3</td>\n",
       "      <td>Hct</td>\n",
       "      <td>38.30</td>\n",
       "      <td>38.3</td>\n",
       "      <td>%</td>\n",
       "      <td>%</td>\n",
       "      <td>-631</td>\n",
       "    </tr>\n",
       "    <tr>\n",
       "      <th>1</th>\n",
       "      <td>437880572</td>\n",
       "      <td>1754323</td>\n",
       "      <td>-647</td>\n",
       "      <td>3</td>\n",
       "      <td>platelets x 1000</td>\n",
       "      <td>181.00</td>\n",
       "      <td>181</td>\n",
       "      <td>K/mcL</td>\n",
       "      <td>k/mm cu</td>\n",
       "      <td>-631</td>\n",
       "    </tr>\n",
       "    <tr>\n",
       "      <th>2</th>\n",
       "      <td>437880560</td>\n",
       "      <td>1754323</td>\n",
       "      <td>-647</td>\n",
       "      <td>3</td>\n",
       "      <td>RBC</td>\n",
       "      <td>4.86</td>\n",
       "      <td>4.86</td>\n",
       "      <td>M/mcL</td>\n",
       "      <td>m/mm cu</td>\n",
       "      <td>-631</td>\n",
       "    </tr>\n",
       "    <tr>\n",
       "      <th>3</th>\n",
       "      <td>437880570</td>\n",
       "      <td>1754323</td>\n",
       "      <td>-647</td>\n",
       "      <td>3</td>\n",
       "      <td>-monos</td>\n",
       "      <td>8.70</td>\n",
       "      <td>8.7</td>\n",
       "      <td>%</td>\n",
       "      <td>%</td>\n",
       "      <td>-631</td>\n",
       "    </tr>\n",
       "    <tr>\n",
       "      <th>4</th>\n",
       "      <td>437880571</td>\n",
       "      <td>1754323</td>\n",
       "      <td>-647</td>\n",
       "      <td>3</td>\n",
       "      <td>MCHC</td>\n",
       "      <td>30.40</td>\n",
       "      <td>30.4</td>\n",
       "      <td>g/dL</td>\n",
       "      <td>%</td>\n",
       "      <td>-631</td>\n",
       "    </tr>\n",
       "  </tbody>\n",
       "</table>\n",
       "</div>"
      ],
      "text/plain": [
       "       labid  patientunitstayid  labresultoffset  labtypeid           labname  \\\n",
       "0  437880563            1754323             -647          3               Hct   \n",
       "1  437880572            1754323             -647          3  platelets x 1000   \n",
       "2  437880560            1754323             -647          3               RBC   \n",
       "3  437880570            1754323             -647          3            -monos   \n",
       "4  437880571            1754323             -647          3              MCHC   \n",
       "\n",
       "   labresult labresulttext labmeasurenamesystem labmeasurenameinterface  \\\n",
       "0      38.30          38.3                    %                       %   \n",
       "1     181.00           181                K/mcL                 k/mm cu   \n",
       "2       4.86          4.86                M/mcL                 m/mm cu   \n",
       "3       8.70           8.7                    %                       %   \n",
       "4      30.40          30.4                 g/dL                       %   \n",
       "\n",
       "   labresultrevisedoffset  \n",
       "0                    -631  \n",
       "1                    -631  \n",
       "2                    -631  \n",
       "3                    -631  \n",
       "4                    -631  "
      ]
     },
     "execution_count": 17,
     "metadata": {},
     "output_type": "execute_result"
    }
   ],
   "source": [
    "df=pd.read_csv('data/lab.csv')\n",
    "df.info()\n",
    "df.head()"
   ]
  },
  {
   "cell_type": "code",
   "execution_count": 18,
   "metadata": {},
   "outputs": [
    {
     "name": "stdout",
     "output_type": "stream",
     "text": [
      "<class 'pandas.core.frame.DataFrame'>\n",
      "RangeIndex: 434660 entries, 0 to 434659\n",
      "Data columns (total 6 columns):\n",
      " #   Column                   Non-Null Count   Dtype  \n",
      "---  ------                   --------------   -----  \n",
      " 0   labresultoffset          434660 non-null  int64  \n",
      " 1   labname                  434660 non-null  object \n",
      " 2   labresult                431939 non-null  float64\n",
      " 3   labmeasurenamesystem     415754 non-null  object \n",
      " 4   labmeasurenameinterface  415763 non-null  object \n",
      " 5   labresultrevisedoffset   434660 non-null  int64  \n",
      "dtypes: float64(1), int64(2), object(3)\n",
      "memory usage: 19.9+ MB\n"
     ]
    }
   ],
   "source": [
    "# supprimer les colonnes inutiles\n",
    "df=df.drop(['labid', 'patientunitstayid','labtypeid','labresulttext'], axis=1)\n",
    "df.info()"
   ]
  },
  {
   "cell_type": "code",
   "execution_count": 19,
   "metadata": {},
   "outputs": [
    {
     "name": "stdout",
     "output_type": "stream",
     "text": [
      "<class 'pandas.core.frame.DataFrame'>\n",
      "RangeIndex: 434660 entries, 0 to 434659\n",
      "Data columns (total 6 columns):\n",
      " #   Column                   Non-Null Count   Dtype  \n",
      "---  ------                   --------------   -----  \n",
      " 0   labresultoffset          434660 non-null  int64  \n",
      " 1   labname                  434660 non-null  object \n",
      " 2   labresult                434660 non-null  float64\n",
      " 3   labmeasurenamesystem     434660 non-null  object \n",
      " 4   labmeasurenameinterface  434660 non-null  object \n",
      " 5   labresultrevisedoffset   434660 non-null  int64  \n",
      "dtypes: float64(1), int64(2), object(3)\n",
      "memory usage: 19.9+ MB\n"
     ]
    }
   ],
   "source": [
    "# remplacer les valeurs manquantes par la moyenne\n",
    "df['labresult'].fillna(df['labresult'].mean(), inplace=True)\n",
    "\n",
    "# remplacer les chaines manquantes par la chaine la plus fréquente\n",
    "df['labmeasurenamesystem'].fillna(df['labmeasurenamesystem'].value_counts().index[0], inplace=True)\n",
    "df['labmeasurenameinterface'].fillna(df['labmeasurenameinterface'].value_counts().index[0], inplace=True)\n",
    "df.info()"
   ]
  },
  {
   "cell_type": "code",
   "execution_count": 20,
   "metadata": {},
   "outputs": [],
   "source": [
    "# diviser les données en données d'entrainement et de test\n",
    "X=df.drop('labresult', axis=1)\n",
    "y=df['labresult']\n",
    "X_train, X_test, y_train, y_test = train_test_split(X, y, test_size=0.2, random_state=0)"
   ]
  }
 ],
 "metadata": {
  "kernelspec": {
   "display_name": "Python 3",
   "language": "python",
   "name": "python3"
  },
  "language_info": {
   "codemirror_mode": {
    "name": "ipython",
    "version": 3
   },
   "file_extension": ".py",
   "mimetype": "text/x-python",
   "name": "python",
   "nbconvert_exporter": "python",
   "pygments_lexer": "ipython3",
   "version": "3.12.0"
  }
 },
 "nbformat": 4,
 "nbformat_minor": 2
}
